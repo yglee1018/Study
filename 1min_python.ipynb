{
  "nbformat": 4,
  "nbformat_minor": 0,
  "metadata": {
    "colab": {
      "name": "1min_python.ipynb",
      "provenance": [],
      "collapsed_sections": [],
      "authorship_tag": "ABX9TyPT7N95Z2x56Px7VAimCGeV",
      "include_colab_link": true
    },
    "kernelspec": {
      "name": "python3",
      "display_name": "Python 3"
    },
    "language_info": {
      "name": "python"
    }
  },
  "cells": [
    {
      "cell_type": "markdown",
      "metadata": {
        "id": "view-in-github",
        "colab_type": "text"
      },
      "source": [
        "<a href=\"https://colab.research.google.com/github/ykLee1018/Study/blob/main/1min_python.ipynb\" target=\"_parent\"><img src=\"https://colab.research.google.com/assets/colab-badge.svg\" alt=\"Open In Colab\"/></a>"
      ]
    },
    {
      "cell_type": "markdown",
      "source": [
        "변수 이름 숫자로 시작할 수 없음"
      ],
      "metadata": {
        "id": "dMZfG0dNJoPW"
      }
    },
    {
      "cell_type": "markdown",
      "source": [
        "int() 이용해서 실수 정수로 바꿀 때는 버림"
      ],
      "metadata": {
        "id": "Ct4JRzeKKOAO"
      }
    },
    {
      "cell_type": "markdown",
      "source": [
        "**산술 연산자**  \n",
        "% 나머지  \n",
        "// 몫  \n",
        "** 거듭제곱  \n",
        "**비교 연산자**   \n",
        "-> 결과 불리안 형태, 부등호 먼저  \n",
        "== 같다  \n",
        "!= 다르다  \n",
        "**논리 연산자**  \n",
        "and 둘다 참  \n",
        "or 하나라도 참  \n",
        "not 반전  \n",
        "**멤버 연산자**  \n",
        "in 포함  \n",
        "not in 미포함"
      ],
      "metadata": {
        "id": "9FLD2I1_KS4u"
      }
    },
    {
      "cell_type": "markdown",
      "source": [
        "bool()  \n",
        "문자 자료형 - 값이 있으면 True, 없으면 False  \n",
        "숫자 자료형 - 0이 아닌 모든 수는 True, 0은 False  \n",
        "None - 값이 없음"
      ],
      "metadata": {
        "id": "pxUOi5VlKVd8"
      }
    },
    {
      "cell_type": "code",
      "source": [
        "a='hello'\n",
        "b='   '\n",
        "c=''\n",
        "\n",
        "print(bool(a))\n",
        "print(bool(b))\n",
        "print(bool(c))"
      ],
      "metadata": {
        "colab": {
          "base_uri": "https://localhost:8080/"
        },
        "id": "i-EvV6CzLJee",
        "outputId": "1fd6688a-cdfd-4e2e-aa48-3795bdce219b"
      },
      "execution_count": null,
      "outputs": [
        {
          "output_type": "stream",
          "name": "stdout",
          "text": [
            "True\n",
            "True\n",
            "False\n"
          ]
        }
      ]
    },
    {
      "cell_type": "code",
      "source": [
        "a=1\n",
        "b=-2\n",
        "c=0\n",
        "\n",
        "print(bool(a))\n",
        "print(bool(b))\n",
        "print(bool(c))"
      ],
      "metadata": {
        "colab": {
          "base_uri": "https://localhost:8080/"
        },
        "id": "mpV-jPPrLWMC",
        "outputId": "f539ab0d-1e83-444a-bc9c-c999ac6c11af"
      },
      "execution_count": null,
      "outputs": [
        {
          "output_type": "stream",
          "name": "stdout",
          "text": [
            "True\n",
            "True\n",
            "False\n"
          ]
        }
      ]
    },
    {
      "cell_type": "code",
      "source": [
        "print(bool(None))"
      ],
      "metadata": {
        "colab": {
          "base_uri": "https://localhost:8080/"
        },
        "id": "8iwZwYfSLoj4",
        "outputId": "089f6f2e-db41-4be1-9c29-9c312fdd8b28"
      },
      "execution_count": null,
      "outputs": [
        {
          "output_type": "stream",
          "name": "stdout",
          "text": [
            "False\n"
          ]
        }
      ]
    },
    {
      "cell_type": "markdown",
      "source": [
        "여러줄 주석  \n",
        ": 대상 영역 앞뒤에 ''',''' 추가"
      ],
      "metadata": {
        "id": "c_6246LoLq2H"
      }
    },
    {
      "cell_type": "markdown",
      "source": [
        "인덱스[]  \n",
        "0부터 시작, 오른쪽 맨 끝은 -1도 됨  \n",
        "\n",
        "슬라이싱[start:end]  \n",
        "start부터 end **직전까지** (end 미포함)  \n",
        "앞 뒤 생략하면 끝까지"
      ],
      "metadata": {
        "id": "BGB99TK7MvFU"
      }
    },
    {
      "cell_type": "markdown",
      "source": [
        "여러 줄 문자  \n",
        ": 문자열 앞뒤로 따옴표 3개씩(''') 감싸기 "
      ],
      "metadata": {
        "id": "D0H57Xg1NGiG"
      }
    },
    {
      "cell_type": "code",
      "source": [
        "snack = '''꿀꽈배기는\n",
        "너무\n",
        "맛있어요'''\n",
        "\n",
        "print(snack)"
      ],
      "metadata": {
        "colab": {
          "base_uri": "https://localhost:8080/"
        },
        "id": "cwXX3jexSB--",
        "outputId": "16594c53-52e5-4eee-84ce-17a1e70e814c"
      },
      "execution_count": null,
      "outputs": [
        {
          "output_type": "stream",
          "name": "stdout",
          "text": [
            "꿀꽈배기는\n",
            "너무\n",
            "맛있어요\n"
          ]
        }
      ]
    },
    {
      "cell_type": "markdown",
      "source": [
        "문자열 메소드  \n",
        "문자열.메소드()"
      ],
      "metadata": {
        "id": "y_c3tsFcSMWJ"
      }
    },
    {
      "cell_type": "code",
      "source": [
        "letter = 'how are YOU?' \n",
        "\n",
        "print(letter.lower())       #소문자로\n",
        "print(letter.upper())       #대문자로\n",
        "print(letter.capitalize())  #첫 글자만 대문자로\n",
        "print(letter.title())       #각 단어들의 첫글자만 대문자로\n",
        "print(letter.swapcase())    #대소문자 상호 변환\n",
        "print(letter.split())       #문자열 분리(띄어쓰기 기준)\n",
        "print(letter.count('how'))  #특정 단어의 수"
      ],
      "metadata": {
        "colab": {
          "base_uri": "https://localhost:8080/"
        },
        "id": "CmmMofdbSaQS",
        "outputId": "48d00f6c-d7ae-4bcf-d5ef-88614f74a1ec"
      },
      "execution_count": null,
      "outputs": [
        {
          "output_type": "stream",
          "name": "stdout",
          "text": [
            "how are you?\n",
            "HOW ARE YOU?\n",
            "How are you?\n",
            "How Are You?\n",
            "HOW ARE you?\n",
            "['how', 'are', 'YOU?']\n",
            "1\n"
          ]
        }
      ]
    },
    {
      "cell_type": "code",
      "source": [
        "s = '나도고등학교'  \n",
        "\n",
        "print(s.startswith('나도'))   #~로 시작하는지\n",
        "print(s.endswith('교'))       #~로 끝나는지\n",
        "print(s.replace('고등학교','고교'))  #단어 바꾸기\n",
        "print(s.find('학교'))         #단어 위치 찾기\n",
        "print(s.center(10,'-'))       #다른 문자들 사이 가운데\n",
        "\n",
        "d = '..나도고등학교..'\n",
        "print(d.strip('.'))           #앞뒤 불필요한 부분 제거"
      ],
      "metadata": {
        "colab": {
          "base_uri": "https://localhost:8080/"
        },
        "id": "lG5Im0nnSrXw",
        "outputId": "26362457-8d20-4b69-bbb8-81b1f447479b"
      },
      "execution_count": null,
      "outputs": [
        {
          "output_type": "stream",
          "name": "stdout",
          "text": [
            "True\n",
            "True\n",
            "나도고교\n",
            "4\n",
            "--나도고등학교--\n",
            "나도고등학교\n"
          ]
        }
      ]
    },
    {
      "cell_type": "markdown",
      "source": [
        "문자열 포맷"
      ],
      "metadata": {
        "id": "91RQxeqUUur3"
      }
    },
    {
      "cell_type": "code",
      "source": [
        "python = '파이썬'\n",
        "java = '자바'\n",
        "\n",
        "#1.{}+format\n",
        "print('개발 언어에는 {}, {} 등이 있어요'.format(python,java))\n",
        "\n",
        "#2.{N}+format\n",
        "print('개발 언어에는 {0}, {1} 등이 있어요'.format(python,java))\n",
        "print('개발 언어에는 {1}, {0} 등이 있어요'.format(python,java))\n",
        "\n",
        "#3. f-string\n",
        "print(f'개발 언어에는 {python}, {java} 등이 있어요')"
      ],
      "metadata": {
        "colab": {
          "base_uri": "https://localhost:8080/"
        },
        "id": "WsDuLCteTyBN",
        "outputId": "d424fa6e-da4c-4db1-edc8-b3335a3e6456"
      },
      "execution_count": null,
      "outputs": [
        {
          "output_type": "stream",
          "name": "stdout",
          "text": [
            "개발 언어에는 파이썬, 자바 등이 있어요\n",
            "개발 언어에는 파이썬, 자바 등이 있어요\n",
            "개발 언어에는 자바, 파이썬 등이 있어요\n",
            "개발 언어에는 파이썬, 자바 등이 있어요\n"
          ]
        }
      ]
    },
    {
      "cell_type": "markdown",
      "source": [
        "탈출 문자  \n",
        ":역슬래시(\\)와 특정 문자(숫자)의 조합으로 표현할 수 없는 기능이나 문자를 표시  \n",
        "ex) 따옴표 문제  \n",
        "큰 따옴표 \\\"  \n",
        "작은 따옴표 \\'  \n",
        "역슬래시 \\\\  \n",
        "줄바꿈 \\n  \n"
      ],
      "metadata": {
        "id": "Lom9w14DVj7u"
      }
    },
    {
      "cell_type": "markdown",
      "source": [
        "리스트:여러개의 값  \n",
        "[값1, 값2, ...]  \n",
        "중복 가능, 뭐든지 다 넣어요, 빈 리스트도 가능"
      ],
      "metadata": {
        "id": "jrkMsR-1Z59j"
      }
    },
    {
      "cell_type": "code",
      "source": [
        "my_list = ['몽쉘', '오예스', '초코파이']\n",
        "\n",
        "print(my_list[0])   #인덱스에 해당하는 값\n",
        "print(my_list[0:2]) #슬라이싱\n",
        "print('몽쉘' in my_list) #포함  \n",
        "print(len(my_list)) #총 몇개\n",
        "\n",
        "my_list[0] = '몽쉘카카오' #값 수정\n",
        "print(my_list)\n",
        "\n",
        "my_list.append('빅파이') #추가\n",
        "print(my_list)\n",
        "\n",
        "my_list.remove('빅파이') #삭제\n",
        "print(my_list)\n",
        "\n",
        "your_list = ['빅파이', '오뜨']\n",
        "my_list.extend(your_list)\n",
        "print(my_list)"
      ],
      "metadata": {
        "colab": {
          "base_uri": "https://localhost:8080/"
        },
        "id": "FtY6BivcVBDL",
        "outputId": "d84b3284-2740-4f54-b148-235f55decc0b"
      },
      "execution_count": null,
      "outputs": [
        {
          "output_type": "stream",
          "name": "stdout",
          "text": [
            "몽쉘\n",
            "['몽쉘', '오예스']\n",
            "True\n",
            "3\n",
            "['몽쉘카카오', '오예스', '초코파이']\n",
            "['몽쉘카카오', '오예스', '초코파이', '빅파이']\n",
            "['몽쉘카카오', '오예스', '초코파이']\n",
            "['몽쉘카카오', '오예스', '초코파이', '빅파이', '오뜨']\n"
          ]
        }
      ]
    },
    {
      "cell_type": "markdown",
      "source": [
        "insert() : 원하는 위치에 값 추가  \n",
        "pop() : 원하는 위치(또는 마지막)의 값 삭제  \n",
        "clear() : 모든 값 삭제  \n",
        "sort() : 값 순서대로 정렬  \n",
        "reverse() : 순서 뒤집기  \n",
        "copy() : 리스트 복사  \n",
        "count() : 어떤 값이 몇개 있는지  \n",
        "index() : 어떤 값이 어디에 있는지"
      ],
      "metadata": {
        "id": "Yq4fz4KdbeZA"
      }
    },
    {
      "cell_type": "markdown",
      "source": [
        "튜플  \n",
        "(값1, 값2, ...)  \n",
        "튜플은 수정 불가  \n",
        "=읽기 전용 리스트  \n",
        "중복 허용, 뭐든지 다 넣어요  \n",
        "순서 보장  \n",
        "인덱스, 슬라이싱, 카운트 등 가능"
      ],
      "metadata": {
        "id": "RWc-BLV9b2ak"
      }
    },
    {
      "cell_type": "code",
      "source": [
        "my_tuple = ('몽쉘', '오예스', '초코파이')     #패킹\n",
        "(pie1, pie2, pie3) = my_tuple                 #언패킹-변수에 각각 저장\n",
        "\n",
        "print(pie1)\n",
        "print(pie2)\n",
        "print(pie3)"
      ],
      "metadata": {
        "colab": {
          "base_uri": "https://localhost:8080/"
        },
        "id": "mdw5PW4uaXn1",
        "outputId": "7bd97e78-4c04-46b3-add5-84c0121c8c86"
      },
      "execution_count": null,
      "outputs": [
        {
          "output_type": "stream",
          "name": "stdout",
          "text": [
            "몽쉘\n",
            "오예스\n",
            "초코파이\n"
          ]
        }
      ]
    },
    {
      "cell_type": "code",
      "source": [
        "numbers = (1,2,3,4,5,6,7,8,9,10)\n",
        "(one, two, *others) = numbers  \n",
        "print(others) #리스트!"
      ],
      "metadata": {
        "colab": {
          "base_uri": "https://localhost:8080/"
        },
        "id": "JBYzXE61cj5A",
        "outputId": "ede1ab8d-fe65-4c6a-f4cc-8909445c9ce7"
      },
      "execution_count": null,
      "outputs": [
        {
          "output_type": "stream",
          "name": "stdout",
          "text": [
            "[3, 4, 5, 6, 7, 8, 9, 10]\n"
          ]
        }
      ]
    },
    {
      "cell_type": "markdown",
      "source": [
        "세트  \n",
        "순서 보장 x, 중복 x  \n",
        "{값1, 값2,...}"
      ],
      "metadata": {
        "id": "fJO-yj5fc3Z1"
      }
    },
    {
      "cell_type": "code",
      "source": [
        "A = {'돈가스', '보쌈', '제육덮밥'}\n",
        "B = {'짬뽕', '초밥', '제육덮밥'}\n",
        "\n",
        "print(A.intersection(B))      #교집합\n",
        "print(A.union(B))             #합집합\n",
        "print(A.difference(B))        #차집합"
      ],
      "metadata": {
        "colab": {
          "base_uri": "https://localhost:8080/"
        },
        "id": "Z5uqFW4Ue1PM",
        "outputId": "deb5a905-3766-4cae-d8bf-a4b793305397"
      },
      "execution_count": null,
      "outputs": [
        {
          "output_type": "stream",
          "name": "stdout",
          "text": [
            "{'제육덮밥'}\n",
            "{'보쌈', '제육덮밥', '초밥', '돈가스', '짬뽕'}\n",
            "{'보쌈', '돈가스'}\n"
          ]
        }
      ]
    },
    {
      "cell_type": "markdown",
      "source": [
        "순서 보장 x  \n",
        ": 인덱싱, 슬라이싱 접근 불가  \n",
        "읽기 전용은 아님  \n",
        "수정은 가능  "
      ],
      "metadata": {
        "id": "GXWSuLtofffm"
      }
    },
    {
      "cell_type": "code",
      "source": [
        "my_set = {'돈가스', '보쌈', '제육덮밥'}\n",
        "\n",
        "my_set.add('닭갈비')   #값 추가\n",
        "print(my_set)\n",
        "\n",
        "my_set.remove('제육덮밥')   #값 삭제\n",
        "print(my_set)\n",
        "\n",
        "my_set.clear() #모든 값 삭제\n",
        "print(my_set)\n",
        "\n",
        "my_set = {'돈가스', '보쌈', '제육덮밥'} #완전 삭제\n",
        "del my_set\n",
        "print(my_set)"
      ],
      "metadata": {
        "colab": {
          "base_uri": "https://localhost:8080/",
          "height": 263
        },
        "id": "7xxrSqBefGFP",
        "outputId": "e7a94a27-f00b-4255-f4e5-09fa40139f59"
      },
      "execution_count": null,
      "outputs": [
        {
          "output_type": "stream",
          "name": "stdout",
          "text": [
            "{'보쌈', '제육덮밥', '돈가스', '닭갈비'}\n",
            "{'보쌈', '돈가스', '닭갈비'}\n",
            "set()\n"
          ]
        },
        {
          "output_type": "error",
          "ename": "NameError",
          "evalue": "ignored",
          "traceback": [
            "\u001b[0;31m---------------------------------------------------------------------------\u001b[0m",
            "\u001b[0;31mNameError\u001b[0m                                 Traceback (most recent call last)",
            "\u001b[0;32m<ipython-input-35-c02e023128b0>\u001b[0m in \u001b[0;36m<module>\u001b[0;34m()\u001b[0m\n\u001b[1;32m     12\u001b[0m \u001b[0mmy_set\u001b[0m \u001b[0;34m=\u001b[0m \u001b[0;34m{\u001b[0m\u001b[0;34m'돈가스'\u001b[0m\u001b[0;34m,\u001b[0m \u001b[0;34m'보쌈'\u001b[0m\u001b[0;34m,\u001b[0m \u001b[0;34m'제육덮밥'\u001b[0m\u001b[0;34m}\u001b[0m \u001b[0;31m#완전 삭제\u001b[0m\u001b[0;34m\u001b[0m\u001b[0;34m\u001b[0m\u001b[0m\n\u001b[1;32m     13\u001b[0m \u001b[0;32mdel\u001b[0m \u001b[0mmy_set\u001b[0m\u001b[0;34m\u001b[0m\u001b[0;34m\u001b[0m\u001b[0m\n\u001b[0;32m---> 14\u001b[0;31m \u001b[0mprint\u001b[0m\u001b[0;34m(\u001b[0m\u001b[0mmy_set\u001b[0m\u001b[0;34m)\u001b[0m\u001b[0;34m\u001b[0m\u001b[0;34m\u001b[0m\u001b[0m\n\u001b[0m",
            "\u001b[0;31mNameError\u001b[0m: name 'my_set' is not defined"
          ]
        }
      ]
    },
    {
      "cell_type": "markdown",
      "source": [
        "copy() : 세트 복사  \n",
        "discard() : 값 삭제(해당 값이 없어도 에러 발생 x)  \n",
        "isdisjoint() : 두 세트에 겹치는 값이 없는지 여부  \n",
        "issubset() : 다른 세트의 부분집합인지 여부  \n",
        "issuperset() : 다른 세트의 상위집합인지 여부  \n",
        "update() : 다른 세트의 값들을 더함"
      ],
      "metadata": {
        "id": "-AvGeJ1Ngl5s"
      }
    },
    {
      "cell_type": "markdown",
      "source": [
        "딕셔너리  \n",
        "{key1:value1, key2:value2, ...}  \n",
        "key는 중복 불가능"
      ],
      "metadata": {
        "id": "Bf4Oc1_shABm"
      }
    },
    {
      "cell_type": "code",
      "source": [
        "person = {\n",
        "    '이름':'나귀욤',\n",
        "    '나이':7,\n",
        "    '키':120,\n",
        "    '몸무게':23\n",
        "}\n",
        "\n",
        "print(person['이름'])       #key에 해당하는 value 확인\n",
        "print(person.get('별명'))   #없는 key에 접근하면 None 출력\n",
        "person['최종학력']='유치원' #새로운 데이터 추가\n",
        "person['키']=130            #특정 key의 value 바꾸기\n",
        "person.update({'키':130, '몸무게':26})  #여러 key들의 value 바꾸기\n",
        "person.pop('몸무게')        #특정 key:value 삭제\n",
        "print(person.keys())        #어떤 key들이 있는지\n",
        "print(person.values())     #어떤 value들이 있는지\n",
        "print(person.items())       #어떤 key:value들이 있는지\n",
        "person.clear()              #모든 데이터 삭제"
      ],
      "metadata": {
        "colab": {
          "base_uri": "https://localhost:8080/"
        },
        "id": "CSTUeg_gf9O-",
        "outputId": "20690bdd-4d66-48fa-97ff-0761d6c76914"
      },
      "execution_count": null,
      "outputs": [
        {
          "output_type": "stream",
          "name": "stdout",
          "text": [
            "나귀욤\n",
            "None\n",
            "dict_keys(['이름', '나이', '키', '최종학력'])\n",
            "dict_values(['나귀욤', 7, 130, '유치원'])\n",
            "dict_items([('이름', '나귀욤'), ('나이', 7), ('키', 130), ('최종학력', '유치원')])\n"
          ]
        }
      ]
    },
    {
      "cell_type": "markdown",
      "source": [
        "fromkeys() : 제공된 key를 통해 새로운 딕셔너리 생성 및 변환  \n",
        "popitem() : 마지막으로 추가된 데이터 삭제  \n",
        "setdefault() : key에 해당하는 value 변환, key가 없다면 새로 만들고 default value 설정 및 변환"
      ],
      "metadata": {
        "id": "bxPz81F9mhEa"
      }
    },
    {
      "cell_type": "markdown",
      "source": [
        "자료형 변환  \n",
        "list()  \n",
        "tuple()  \n",
        "set()  \n",
        "dict.fromkeys()  "
      ],
      "metadata": {
        "id": "aIpfjibvmiri"
      }
    },
    {
      "cell_type": "markdown",
      "source": [
        "if:  \n",
        "else:  \n",
        "들여쓰기 주의"
      ],
      "metadata": {
        "id": "IbMMR7juGxCC"
      }
    },
    {
      "cell_type": "markdown",
      "source": [
        "if,elif,elif,else  \n",
        "만약 ~라면  \n",
        "아니면 ~라면  \n",
        "아니면 ~라면  \n",
        "아니면"
      ],
      "metadata": {
        "id": "wkk0lnHzHQWk"
      }
    },
    {
      "cell_type": "markdown",
      "source": [
        "if 중첩  \n",
        "if문 안에서 또 if 사용  \n",
        "동일한 위치로 들여쓰기 한 후 if문"
      ],
      "metadata": {
        "id": "gqFuakfOH3bt"
      }
    },
    {
      "cell_type": "markdown",
      "source": [
        "for 반복문  \n",
        "for 변수 in 반복 범위 또는 대상:  \n",
        "들여쓰기 반복 수행 문장"
      ],
      "metadata": {
        "id": "fPHTlqrEIeYU"
      }
    },
    {
      "cell_type": "code",
      "source": [
        "for x in range(10):     #0이상 10미만(0~9)\n",
        "  print(f'팔벌려뛰기{x}회')"
      ],
      "metadata": {
        "id": "4mnrGFjpk_sB",
        "colab": {
          "base_uri": "https://localhost:8080/"
        },
        "outputId": "ce3fb07e-1baf-4282-c201-222a6c20ca7e"
      },
      "execution_count": null,
      "outputs": [
        {
          "output_type": "stream",
          "name": "stdout",
          "text": [
            "팔벌려뛰기0회\n",
            "팔벌려뛰기1회\n",
            "팔벌려뛰기2회\n",
            "팔벌려뛰기3회\n",
            "팔벌려뛰기4회\n",
            "팔벌려뛰기5회\n",
            "팔벌려뛰기6회\n",
            "팔벌려뛰기7회\n",
            "팔벌려뛰기8회\n",
            "팔벌려뛰기9회\n"
          ]
        }
      ]
    },
    {
      "cell_type": "markdown",
      "source": [
        "range(start,stop,step)  \n",
        ":start 이상 stop 미만 step만큼 증가"
      ],
      "metadata": {
        "id": "PYjfgyRGI_dG"
      }
    },
    {
      "cell_type": "code",
      "source": [
        "my_list = [1,2,3]\n",
        "for x in my_list:\n",
        "  print(x) "
      ],
      "metadata": {
        "colab": {
          "base_uri": "https://localhost:8080/"
        },
        "id": "GqHOPH8aJOrg",
        "outputId": "89eaa7a7-1f0e-473b-d1db-738e12755215"
      },
      "execution_count": null,
      "outputs": [
        {
          "output_type": "stream",
          "name": "stdout",
          "text": [
            "1\n",
            "2\n",
            "3\n"
          ]
        }
      ]
    },
    {
      "cell_type": "code",
      "source": [
        "my_tuple = (1,2,3)\n",
        "for x in my_tuple:\n",
        "  print(x) "
      ],
      "metadata": {
        "colab": {
          "base_uri": "https://localhost:8080/"
        },
        "id": "o_Z6ZdvEJ1HO",
        "outputId": "af6af82d-adaf-4ed2-e43d-114ffc3ec37d"
      },
      "execution_count": null,
      "outputs": [
        {
          "output_type": "stream",
          "name": "stdout",
          "text": [
            "1\n",
            "2\n",
            "3\n"
          ]
        }
      ]
    },
    {
      "cell_type": "code",
      "source": [
        "person = {\n",
        "    '이름':'나귀욤',\n",
        "    '나이':7,\n",
        "    '키':120,\n",
        "    '몸무게':23\n",
        "}\n",
        "\n",
        "for v in person.values():\n",
        "  print(v)\n",
        "\n",
        "for k in person.keys():\n",
        "  print(k)\n",
        "\n",
        "for k,v in person.items():\n",
        "  print(k,v)"
      ],
      "metadata": {
        "colab": {
          "base_uri": "https://localhost:8080/"
        },
        "id": "BQRXMqB_J6Hv",
        "outputId": "4a0d6741-fd1b-4234-c53c-b785e012f7cb"
      },
      "execution_count": null,
      "outputs": [
        {
          "output_type": "stream",
          "name": "stdout",
          "text": [
            "나귀욤\n",
            "7\n",
            "120\n",
            "23\n",
            "이름\n",
            "나이\n",
            "키\n",
            "몸무게\n",
            "이름 나귀욤\n",
            "나이 7\n",
            "키 120\n",
            "몸무게 23\n"
          ]
        }
      ]
    },
    {
      "cell_type": "code",
      "source": [
        "fruit = 'apple'\n",
        "for x in fruit:\n",
        "  print(x)"
      ],
      "metadata": {
        "colab": {
          "base_uri": "https://localhost:8080/"
        },
        "id": "t1IJCXEhKHYq",
        "outputId": "04960f8d-970a-4d48-90bb-855649e022d3"
      },
      "execution_count": null,
      "outputs": [
        {
          "output_type": "stream",
          "name": "stdout",
          "text": [
            "a\n",
            "p\n",
            "p\n",
            "l\n",
            "e\n"
          ]
        }
      ]
    },
    {
      "cell_type": "markdown",
      "source": [
        "정수는 반복 대상이 될 수 없음"
      ],
      "metadata": {
        "id": "KoVzRjuAKcfl"
      }
    },
    {
      "cell_type": "markdown",
      "source": [
        "while  \n",
        "조건이 참일 동안 계속 반복  \n",
        "\n",
        "while 조건:  \n",
        "들여쓰기 반복 실행 문장"
      ],
      "metadata": {
        "id": "YX23rqCOKfmn"
      }
    },
    {
      "cell_type": "markdown",
      "source": [
        "break  \n",
        "반복문 탈출  \n",
        " "
      ],
      "metadata": {
        "id": "P44EJHjcK29M"
      }
    },
    {
      "cell_type": "code",
      "source": [
        "drama = ['시즌1', '시즌2', '시즌3', '시즌4', '시즌5']\n",
        "for x in drama:\n",
        "  if x == '시즌3':\n",
        "    print('재미없대, 그만보자')\n",
        "    break\n",
        "  print(f'{x}시청')"
      ],
      "metadata": {
        "colab": {
          "base_uri": "https://localhost:8080/"
        },
        "id": "A0k0GGhhKXF4",
        "outputId": "557b89af-3925-4c81-b062-c7a9d838978a"
      },
      "execution_count": null,
      "outputs": [
        {
          "output_type": "stream",
          "name": "stdout",
          "text": [
            "시즌1시청\n",
            "시즌2시청\n",
            "재미없대, 그만보자\n"
          ]
        }
      ]
    },
    {
      "cell_type": "markdown",
      "source": [
        "continue  \n",
        "동작을 건너뛰고 싶을 때"
      ],
      "metadata": {
        "id": "FgeDLdtcNU78"
      }
    },
    {
      "cell_type": "code",
      "source": [
        "drama = ['시즌1', '시즌2', '시즌3', '시즌4', '시즌5']\n",
        "for x in drama:\n",
        "  if x == '시즌3':\n",
        "    print('재미없대, 그만보자')\n",
        "    continue\n",
        "  print(f'{x}시청')"
      ],
      "metadata": {
        "colab": {
          "base_uri": "https://localhost:8080/"
        },
        "id": "n8YRzcOtNMl_",
        "outputId": "dd0214ae-4ba4-4955-9b48-a9b121d650b7"
      },
      "execution_count": null,
      "outputs": [
        {
          "output_type": "stream",
          "name": "stdout",
          "text": [
            "시즌1시청\n",
            "시즌2시청\n",
            "재미없대, 그만보자\n",
            "시즌4시청\n",
            "시즌5시청\n"
          ]
        }
      ]
    },
    {
      "cell_type": "code",
      "source": [
        "for x in range(10):\n",
        "  if x%2==1:\n",
        "    continue    #나머지가 1인 경우는 다음 반복으로\n",
        "  print(x)"
      ],
      "metadata": {
        "colab": {
          "base_uri": "https://localhost:8080/"
        },
        "id": "FIBh8eYqNfvH",
        "outputId": "b71f3516-4966-4ec1-c35a-363f63d7981e"
      },
      "execution_count": null,
      "outputs": [
        {
          "output_type": "stream",
          "name": "stdout",
          "text": [
            "0\n",
            "2\n",
            "4\n",
            "6\n",
            "8\n"
          ]
        }
      ]
    },
    {
      "cell_type": "markdown",
      "source": [
        "if 조건문:  \n",
        "for 반복문:  \n",
        "while 반복문:  \n",
        "def 함수:  \n",
        "try 예외:  \n",
        "class 클래스:  \n",
        "콜론으로 끝나는 문장 다음줄은 들여쓰기"
      ],
      "metadata": {
        "id": "jMhYrK9xN3Gz"
      }
    },
    {
      "cell_type": "markdown",
      "source": [
        "리스트 컴프리헨션  \n",
        "new_list = [변수 활용 for 변수 in 반복대상 if 조건]"
      ],
      "metadata": {
        "id": "7p7ggD51OMxN"
      }
    },
    {
      "cell_type": "code",
      "source": [
        "#리콜 대상 제품 조회\n",
        "products = ['JOA-2020', 'JOA-2021', 'SIRO-2021', 'SIRO-2022']\n",
        "recall = []   #리콜 대상 제품 리스트\n",
        "for p in products:\n",
        "  if p.startswith('SIRO'):    #'SIRO'로 시작하는지\n",
        "    recall.append(p) \n",
        "print(recall)"
      ],
      "metadata": {
        "colab": {
          "base_uri": "https://localhost:8080/"
        },
        "id": "a5gV9clGOIER",
        "outputId": "e15bf92c-278b-4c9e-fb19-c91e13cc0c9b"
      },
      "execution_count": null,
      "outputs": [
        {
          "output_type": "stream",
          "name": "stdout",
          "text": [
            "['SIRO-2021', 'SIRO-2022']\n"
          ]
        }
      ]
    },
    {
      "cell_type": "code",
      "source": [
        "#리스트 컴프리헨션 활용\n",
        "products = ['JOA-2020', 'JOA-2021', 'SIRO-2021', 'SIRO-2022']\n",
        "recall = [p for p in products if p.startswith('SIRO')]   \n",
        "print(recall)"
      ],
      "metadata": {
        "colab": {
          "base_uri": "https://localhost:8080/"
        },
        "id": "F1RA3SCIOzc9",
        "outputId": "46d089a1-cbdc-4a97-c016-8c720cfd3be8"
      },
      "execution_count": null,
      "outputs": [
        {
          "output_type": "stream",
          "name": "stdout",
          "text": [
            "['SIRO-2021', 'SIRO-2022']\n"
          ]
        }
      ]
    },
    {
      "cell_type": "markdown",
      "source": [
        "함수  \n",
        "def 함수명():  \n",
        "들여쓰기 수행할 문장"
      ],
      "metadata": {
        "id": "LUoT2-coPhw3"
      }
    },
    {
      "cell_type": "markdown",
      "source": [
        "전달값  \n",
        "1. 여러 개 사용가능(콤마로 구분)  \n",
        "2. 함수 내에서만 사용"
      ],
      "metadata": {
        "id": "ijc3wPGAZom6"
      }
    },
    {
      "cell_type": "markdown",
      "source": [
        "반환값  \n",
        "함수 내에서 처리된 결과를 반환  \n",
        "1. 여러 개 반환 가능(콤마로 구분, 튜플)  \n",
        "2. 반환되는 즉시 함수 탈출\n",
        "\n",
        "def 함수명(전달값):  \n",
        "들여쓰기 수행할 문장  \n",
        "들여쓰기 return 반환값  "
      ],
      "metadata": {
        "id": "_PCM_YAfZy0t"
      }
    },
    {
      "cell_type": "markdown",
      "source": [
        "기본값  \n",
        ":전달값에 기본으로 사용되는 값  \n",
        "\n",
        "def 함수명(전달값=기본값):  \n",
        "들여쓰기 수행할 문장  \n",
        "\n",
        "기본값은 전달값을 따로 명시하지 않을 때 기본으로 설정되는 값이므로 기본값이 제공되는 함수 호출 시 전달값은 생략 가능"
      ],
      "metadata": {
        "id": "c7gTUgzpagDr"
      }
    },
    {
      "cell_type": "markdown",
      "source": [
        "키워드값  \n",
        ": 딱 정해서  "
      ],
      "metadata": {
        "id": "PWSxwvW1bI4-"
      }
    },
    {
      "cell_type": "code",
      "source": [
        "def get_price(is_vip=False,\n",
        "              is_birthday=False,\n",
        "              is_membership=False,\n",
        "              card=False,\n",
        "              review=False,\n",
        "              first_time=False)\n",
        "price=get_price(review=True,is_birthday=True)     #순서 무관"
      ],
      "metadata": {
        "id": "oea2LyU3PaCz"
      },
      "execution_count": null,
      "outputs": []
    },
    {
      "cell_type": "code",
      "source": [
        "def order(shot=2, size='Regular', takeout=True):  #커피주문\n",
        "  print(f'아메리카노{size} 사이즈 {shot} 샷')\n",
        "  if takeout:\n",
        "    print('포장 주문이 완료되었습니다')\n",
        "  else:\n",
        "    print('주문이 완료되었습니다')\n",
        "\n",
        "order()\n",
        "order(2, takeout=True)\n",
        "order(size='Regular')\n",
        "order('Regular', takeout=True)    #'Regular'는 키워드를 명시하지 않았기 때문에 의도치 않게 size가 아닌 shot의 전달값으로 들어감"
      ],
      "metadata": {
        "colab": {
          "base_uri": "https://localhost:8080/"
        },
        "id": "jjaRsg19b8ey",
        "outputId": "7e805925-1f64-4a5b-b237-a2fded5a7d5a"
      },
      "execution_count": null,
      "outputs": [
        {
          "output_type": "stream",
          "name": "stdout",
          "text": [
            "아메리카노Regular 사이즈 2 샷\n",
            "포장 주문이 완료되었습니다\n",
            "아메리카노Regular 사이즈 2 샷\n",
            "포장 주문이 완료되었습니다\n",
            "아메리카노Regular 사이즈 2 샷\n",
            "포장 주문이 완료되었습니다\n",
            "아메리카노Regular 사이즈 Regular 샷\n",
            "포장 주문이 완료되었습니다\n"
          ]
        }
      ]
    },
    {
      "cell_type": "markdown",
      "source": [
        "가변인자  \n",
        ": 개수가 바뀔 수 있는 인자  \n",
        "전달값이 몇개가 될 지 모르는 경우에 사용  \n",
        "\n",
        "*전달값  \n",
        "\n",
        "전달값이 많으면 마지막에 한 번만"
      ],
      "metadata": {
        "id": "5BSAEnyUcyCS"
      }
    },
    {
      "cell_type": "code",
      "source": [
        "def visit(today, *customers):\n",
        "  print(today)\n",
        "  for customer in customers:\n",
        "    print(customer)"
      ],
      "metadata": {
        "id": "_84PlW-9cnA2"
      },
      "execution_count": null,
      "outputs": []
    },
    {
      "cell_type": "markdown",
      "source": [
        "지역 변수  \n",
        ":함수 내에서 정의된 변수  \n",
        "함수 내에서만 사용 가능  \n",
        "호출 여부와 상관 없이 외부 또는 다른 함수에서 접근 불가능"
      ],
      "metadata": {
        "id": "ZrvohnQjdOgh"
      }
    },
    {
      "cell_type": "code",
      "source": [
        "def secret():\n",
        "  message='이건 나만의 비밀'  #함수 내에서 정의\n",
        "  print(message)  #출력 가능"
      ],
      "metadata": {
        "id": "hX1EBDBNdeUM"
      },
      "execution_count": null,
      "outputs": []
    },
    {
      "cell_type": "markdown",
      "source": [
        "전역 변수  \n",
        ":어디서든 사용할 수 있음  \n",
        "함수 밖에서 만들면 전역 변수  \n",
        "\n",
        "global 함수 이름  \n",
        ":전역 변수 사용하겠음. 없으면 여기서 만들겠음"
      ],
      "metadata": {
        "id": "t4Er45VKdvcb"
      }
    },
    {
      "cell_type": "code",
      "source": [
        "message='나는야 전역 변수'\n",
        "print(message)\n",
        "\n",
        "def no_secret():\n",
        "  global message\n",
        "  message = '오 진짜 전역 변수!'\n",
        "\n",
        "no_secret()\n",
        "print(message)"
      ],
      "metadata": {
        "colab": {
          "base_uri": "https://localhost:8080/"
        },
        "id": "oadxawo8eM-3",
        "outputId": "91f5fbfb-667b-488e-88b6-f398420a1981"
      },
      "execution_count": null,
      "outputs": [
        {
          "output_type": "stream",
          "name": "stdout",
          "text": [
            "나는야 전역 변수\n",
            "오 진짜 전역 변수!\n"
          ]
        }
      ]
    },
    {
      "cell_type": "markdown",
      "source": [
        "사용자 입력  \n",
        ": input()  \n",
        "\n",
        "입력값은 항상 문자열 형태"
      ],
      "metadata": {
        "id": "MLNctIPDefU8"
      }
    },
    {
      "cell_type": "code",
      "source": [
        "name=input('예약자분 성함이 어떻게 되나요?')\n",
        "print(name)"
      ],
      "metadata": {
        "colab": {
          "base_uri": "https://localhost:8080/"
        },
        "id": "pDUmpRahecH2",
        "outputId": "6a5ca55c-14b0-4a4d-aa52-a1a6426f1fdc"
      },
      "execution_count": null,
      "outputs": [
        {
          "output_type": "stream",
          "name": "stdout",
          "text": [
            "예약자분 성함이 어떻게 되나요?이유경\n",
            "이유경\n"
          ]
        }
      ]
    },
    {
      "cell_type": "code",
      "source": [
        "num=int(input('총 몇분이세요?'))\n",
        "if num > 4:\n",
        "  print('죄송하지만 저희 식당은 최대 4분 까지만 예약 가능합니다.') "
      ],
      "metadata": {
        "colab": {
          "base_uri": "https://localhost:8080/"
        },
        "id": "j7p8scXyeyRJ",
        "outputId": "a78bc63f-c720-468f-c9f4-d34046c382ea"
      },
      "execution_count": null,
      "outputs": [
        {
          "output_type": "stream",
          "name": "stdout",
          "text": [
            "총 몇분이세요?8\n",
            "죄송하지만 저희 식당은 최대 4분 까지만 예약 가능합니다.\n"
          ]
        }
      ]
    },
    {
      "cell_type": "markdown",
      "source": [
        "파일 입출력  \n",
        ": open(파일명, 열기 모드, encoding='인코딩')  \n",
        "\n",
        "<열기 모드>  \n",
        "r : read(읽기)  \n",
        "a : append(이어서 쓰기)  \n",
        "w : write(쓰기)\n",
        "\n"
      ],
      "metadata": {
        "id": "vDD4EIzqfN0e"
      }
    },
    {
      "cell_type": "code",
      "source": [
        "f = open('list.txt', 'w', encoding='utf8')\n",
        "f.write('김xx \\n')\n",
        "f.write('정xx \\n')\n",
        "f.write('허xx \\n')\n",
        "f.close()     #파일 닫기, 파일을 열었으면 반드시 닫아주어야 함"
      ],
      "metadata": {
        "id": "hCcRX3vRfj-M"
      },
      "execution_count": null,
      "outputs": []
    },
    {
      "cell_type": "code",
      "source": [
        "f = open('list.txt', 'r', encoding='utf8')\n",
        "content = f.read()\n",
        "print(content)\n",
        "\n",
        "f.close()"
      ],
      "metadata": {
        "colab": {
          "base_uri": "https://localhost:8080/"
        },
        "id": "b9-UASpgf64Y",
        "outputId": "67e23519-d1d8-4914-b7fe-d33e22727c75"
      },
      "execution_count": null,
      "outputs": [
        {
          "output_type": "stream",
          "name": "stdout",
          "text": [
            "김xx \n",
            "정xx \n",
            "허xx \n",
            "\n"
          ]
        }
      ]
    },
    {
      "cell_type": "code",
      "source": [
        "f = open('list.txt', 'r', encoding='utf8') #한 줄씩 읽기\n",
        "for line in f:\n",
        "  print(line,end='')    #end 없으면 불필요한 줄 바꿈이 생길수도\n",
        "f.close()"
      ],
      "metadata": {
        "colab": {
          "base_uri": "https://localhost:8080/"
        },
        "id": "vBepp0P3gCkZ",
        "outputId": "e780ad0b-7ffc-4bd3-812c-19d1b4d5e722"
      },
      "execution_count": null,
      "outputs": [
        {
          "output_type": "stream",
          "name": "stdout",
          "text": [
            "김xx \n",
            "정xx \n",
            "허xx \n"
          ]
        }
      ]
    },
    {
      "cell_type": "markdown",
      "source": [
        "with  \n",
        ": 블럭 벗어나면 자동으로 파일 닫음  \n",
        "close() 따로 호출할 필요 없음  \n",
        "파일 입출력 할 때 되도록이면 with 구문 사용하기"
      ],
      "metadata": {
        "id": "IxO5v2lYf5pM"
      }
    },
    {
      "cell_type": "code",
      "source": [
        "with open('list.txt', 'w', encoding='utf8') as f:\n",
        "  f.write('김xx \\n')\n",
        "  f.write('정xx \\n')\n",
        "  f.write('허xx \\n')"
      ],
      "metadata": {
        "id": "CVK2TXivgUJR"
      },
      "execution_count": null,
      "outputs": []
    },
    {
      "cell_type": "code",
      "source": [
        "with open('list.txt', 'r', encoding='utf8') as f:\n",
        "  contents=f.read()\n",
        "  print(contents)"
      ],
      "metadata": {
        "colab": {
          "base_uri": "https://localhost:8080/"
        },
        "id": "nz3Vu-a_gwtF",
        "outputId": "e290a52a-a86b-445b-93b0-3cf3dee48261"
      },
      "execution_count": null,
      "outputs": [
        {
          "output_type": "stream",
          "name": "stdout",
          "text": [
            "김xx \n",
            "정xx \n",
            "허xx \n",
            "\n"
          ]
        }
      ]
    },
    {
      "cell_type": "markdown",
      "source": [
        "클래스  \n",
        ": 변수 ok, 기능도 ok  \n",
        "설계도 + 설명서라고 생각하면 편함  \n",
        "클래스는 한번만 정의를 해두면 그 클래스를 이용해서 많은 객체를 만들 수 있다. 이때 이 객체는 클래스의 인스턴스라고 한다."
      ],
      "metadata": {
        "id": "d4E2UpYwLqbr"
      }
    },
    {
      "cell_type": "markdown",
      "source": [
        "class 클래스명:  \n",
        "들여쓰기 정의"
      ],
      "metadata": {
        "id": "nNTMeTL0_Zv8"
      }
    },
    {
      "cell_type": "code",
      "source": [
        "class BlackBox:\n",
        "  pass\n",
        "\n",
        "b1=BlackBox()   #b1 객체 생성 완료\n",
        "b1.name='까망이'  #변수 선언\n",
        "print(b1.name)\n",
        "\n",
        "print(isinstance(b1,BlackBox))"
      ],
      "metadata": {
        "id": "yZVZRQt3g2h-",
        "colab": {
          "base_uri": "https://localhost:8080/"
        },
        "outputId": "e499331a-d43d-4826-cd04-d7402e38c5a0"
      },
      "execution_count": null,
      "outputs": [
        {
          "output_type": "stream",
          "name": "stdout",
          "text": [
            "까망이\n",
            "True\n"
          ]
        }
      ]
    },
    {
      "cell_type": "markdown",
      "source": [
        "\\__init\\__  \n",
        "객체가 생성될 때 자동으로 실행(호출)됨  \n",
        "괄호 속 다른 변수들 앞에 self가 들어간다는 점 주의"
      ],
      "metadata": {
        "id": "E-SDsiMB357d"
      }
    },
    {
      "cell_type": "code",
      "source": [
        "class BlackBox:\n",
        "  def __init__(self,name,price):\n",
        "    self.name=name\n",
        "    self.price=price\n",
        "\n",
        "b1=BlackBox('까망이',20000)   \n",
        "print(b1.name, b1.price)\n",
        "\n",
        "b2=BlackBox('하양이',10000)   \n",
        "print(b2.name, b2.price)"
      ],
      "metadata": {
        "id": "W5ct4--O_5pP",
        "colab": {
          "base_uri": "https://localhost:8080/"
        },
        "outputId": "82a444eb-c292-48f8-d9ce-33b31802610e"
      },
      "execution_count": null,
      "outputs": [
        {
          "output_type": "stream",
          "name": "stdout",
          "text": [
            "까망이 20000\n",
            "하양이 10000\n"
          ]
        }
      ]
    },
    {
      "cell_type": "markdown",
      "source": [
        "멤버 변수"
      ],
      "metadata": {
        "id": "un8sTFlj4nzw"
      }
    },
    {
      "cell_type": "code",
      "source": [
        "class BlackBox:\n",
        "  def __init__(self,name,price):\n",
        "    self.name=name\n",
        "    self.price=price"
      ],
      "metadata": {
        "id": "waxjD7Jy4avO"
      },
      "execution_count": null,
      "outputs": []
    },
    {
      "cell_type": "markdown",
      "source": [
        "name, price -> 멤버변수  \n",
        ": 객체마다 서로 다른 값을 가질 수 있음  \n",
        "두 객체는 서로 완전 독립적   \n",
        "특정 객체에 별도의 변수를 추가해도 다른 객체에는 영향을 미치지 않는다"
      ],
      "metadata": {
        "id": "NQ6_GWyM46Ie"
      }
    },
    {
      "cell_type": "markdown",
      "source": [
        "메소드  \n",
        ": 클래스 내에 선언되는 함수  \n",
        "self를 제외한 전달값들을 일반 함수와 같은 식으로 호출"
      ],
      "metadata": {
        "id": "ZeJL30ny5O4Q"
      }
    },
    {
      "cell_type": "code",
      "source": [
        "class BlackBox:\n",
        "  def __init__(self,name,price):\n",
        "    self.name=name\n",
        "    self.price=price\n",
        "  \n",
        "  def set_travel_mode(self):\n",
        "    print('여행 모드 ON')\n",
        "\n",
        "b1=BlackBox('까망이', 20000)\n",
        "b1.set_travel_mode()"
      ],
      "metadata": {
        "colab": {
          "base_uri": "https://localhost:8080/"
        },
        "id": "GgOFo8dw5hMh",
        "outputId": "85cf4a80-3a5c-4789-9818-02413daa9d78"
      },
      "execution_count": null,
      "outputs": [
        {
          "output_type": "stream",
          "name": "stdout",
          "text": [
            "여행 모드 ON\n"
          ]
        }
      ]
    },
    {
      "cell_type": "code",
      "source": [
        "class BlackBox:\n",
        "  def __init__(self,name,price):\n",
        "    self.name=name\n",
        "    self.price=price\n",
        "\n",
        "  def set_travel_mode(self,min):  #여행 모드 시간(분)\n",
        "    print(str(min)+'분 동안 여행 모드 ON')\n",
        "  \n",
        "b1=BlackBox('까망이', 20000)\n",
        "b1.set_travel_mode(20)"
      ],
      "metadata": {
        "colab": {
          "base_uri": "https://localhost:8080/"
        },
        "id": "07jjxobt52ie",
        "outputId": "ad3026c1-ac2c-42f0-fab8-d49af36168c0"
      },
      "execution_count": null,
      "outputs": [
        {
          "output_type": "stream",
          "name": "stdout",
          "text": [
            "20분 동안 여행 모드 ON\n"
          ]
        }
      ]
    },
    {
      "cell_type": "markdown",
      "source": [
        "self  \n",
        ": 객체 자기 자신  \n",
        "1. 메소드를 정의할 때 처음 전달값은 반드시 self  \n",
        "2. 메소드 내에서는 self.name과 같은 형태로 멤버변수를 사용  \n",
        "3. 객체를 통해 메소드를 호출할 때 self에 해당하는 전달값은 따로 명시하지 않는다"
      ],
      "metadata": {
        "id": "031YhOiQSbkV"
      }
    },
    {
      "cell_type": "code",
      "source": [
        "class BlackBox:\n",
        "  def __init__(self,name,price):\n",
        "    self.name=name\n",
        "    self.price=price\n",
        "\n",
        "  def set_travel_mode(self,min):  #여행 모드 시간(분)\n",
        "    print(f'{self.name} {min}분 동안 여행 모드 ON')\n",
        "\n",
        "b1=BlackBox('까망이', 20000)\n",
        "b2=BlackBox('하양이', 20000)\n",
        "\n",
        "b1.set_travel_mode(20)\n",
        "b2.set_travel_mode(10)"
      ],
      "metadata": {
        "id": "QM56j4s-6HW8",
        "colab": {
          "base_uri": "https://localhost:8080/"
        },
        "outputId": "e82bcf3e-16b8-439e-f3d3-4448161bb1b5"
      },
      "execution_count": null,
      "outputs": [
        {
          "output_type": "stream",
          "name": "stdout",
          "text": [
            "까망이 20분 동안 여행 모드 ON\n",
            "하양이 10분 동안 여행 모드 ON\n"
          ]
        }
      ]
    },
    {
      "cell_type": "code",
      "source": [
        "class BlackBox:\n",
        "  def __init__(self,name,price):\n",
        "    self.name=name\n",
        "    self.price=price\n",
        "\n",
        "  def set_travel_mode(self,min):  #여행 모드 시간(분)\n",
        "    print(f'{self.name} {min}분 동안 여행 모드 ON')\n",
        "\n",
        "b1=BlackBox('까망이', 20000)\n",
        "b2=BlackBox('하양이', 20000)\n",
        "\n",
        "BlackBox.set_travel_mode(b1,20)"
      ],
      "metadata": {
        "colab": {
          "base_uri": "https://localhost:8080/"
        },
        "id": "bLUDhWRFSwo2",
        "outputId": "6ed2f269-ffe0-4cd1-9714-ab390adc79c9"
      },
      "execution_count": null,
      "outputs": [
        {
          "output_type": "stream",
          "name": "stdout",
          "text": [
            "까망이 20분 동안 여행 모드 ON\n"
          ]
        }
      ]
    },
    {
      "cell_type": "markdown",
      "source": [
        "상속  \n",
        ": 갖다쓰기  \n",
        "class TravelBlackBox(BlackBox):  \n",
        "클래스명 뒤에 소괄호를 이용하여 상속 받으려는 부모 클래스명 적기"
      ],
      "metadata": {
        "id": "JGW7pRXnTK7A"
      }
    },
    {
      "cell_type": "code",
      "source": [
        "#기본 블랙박스\n",
        "class BlackBox:\n",
        "  def __init__(self,name,price):\n",
        "    self.name=name\n",
        "    self.price=price\n",
        "\n",
        "#여행 모드 지원 블랙박스\n",
        "class TravelBlackBox(BlackBox):\n",
        "  def set_travel_mode(self,min):\n",
        "    print(str(min)+'분 동안 여행 모드 ON')"
      ],
      "metadata": {
        "id": "fAw7XrxMMcsK"
      },
      "execution_count": null,
      "outputs": []
    },
    {
      "cell_type": "markdown",
      "source": [
        "super().메소드()  \n",
        ": 부모클래스  \n",
        "메소드의 전달값으로 self는 필요 없음"
      ],
      "metadata": {
        "id": "hVnlSsCuKj4G"
      }
    },
    {
      "cell_type": "code",
      "source": [
        "#기본 블랙박스\n",
        "class BlackBox:\n",
        "  def __init__(self,name,price):\n",
        "    self.name=name\n",
        "    self.price=price\n",
        "\n",
        "#여행 모드 지원 블랙박스\n",
        "class TravelBlackBox(BlackBox):\n",
        "  def __init__(self,name,price,sd):\n",
        "    super().__init__(self,name,price)\n",
        "    self.sd=sd\n",
        "def set_travel_mode(self,min):\n",
        "    print(str(min)+'분 동안 여행 모드 ON')"
      ],
      "metadata": {
        "id": "19azNWkOM3fL"
      },
      "execution_count": null,
      "outputs": []
    },
    {
      "cell_type": "markdown",
      "source": [
        "다중 상속  \n",
        ": 여러 클래스로부터 상속"
      ],
      "metadata": {
        "id": "ogT0Fr0SKlVx"
      }
    },
    {
      "cell_type": "code",
      "source": [
        "# 추억용 영상 제작 기능 구현 클래스\n",
        "class VideoMaker:\n",
        "  def make(self):\n",
        "    print('추억용 여행 영상 제작')\n",
        "\n",
        "#기본 블랙박스\n",
        "class BlackBox:\n",
        "  def __init__(self,name,price):\n",
        "    self.name=name\n",
        "    self.price=price\n",
        "\n",
        "#메일 발송 기능 구현 클래스\n",
        "class MailSender:\n",
        "  def send(self):\n",
        "    print('메일 발송')\n",
        "\n",
        "#여행 모드 지원 블랙박스\n",
        "class TravelBlackBox(BlackBox,VideoMaker,MailSender):\n",
        "  def __init__(self,name,price,sd):\n",
        "    super().__init__(name,price)\n",
        "    self.sd=sd\n",
        "def set_travel_mode(self,min):\n",
        "    print(str(min)+'분 동안 여행 모드 ON')\n",
        "\n",
        "b1=TravelBlackBox('하양이', 100000, 64)   #name,price,sd\n",
        "b1.make()\n",
        "b1.send()"
      ],
      "metadata": {
        "colab": {
          "base_uri": "https://localhost:8080/"
        },
        "id": "ZLXHignsNd9o",
        "outputId": "3e27432a-3a83-4b10-e15d-266cd0c48311"
      },
      "execution_count": null,
      "outputs": [
        {
          "output_type": "stream",
          "name": "stdout",
          "text": [
            "추억용 여행 영상 제작\n",
            "메일 발송\n"
          ]
        }
      ]
    },
    {
      "cell_type": "markdown",
      "source": [
        "메소드 오버라이딩  \n",
        ": 자식 클래스에서 같은 메소드를 정의하지 않으면 부모 클래스의 메소드를, 자식 클래스에서 같은 메소드를 새로 정의하면 자식 클래스의 메소드를!  \n",
        "=부모 클래스의 메소드를 자식 클래스에서 새롭게 정의하는 것"
      ],
      "metadata": {
        "id": "AD5fddtdKnoS"
      }
    },
    {
      "cell_type": "code",
      "source": [
        "#(개선) 여행 모드 지원 블랙박스\n",
        "class AdvancedTravelBlackBox(TravelBlackBox):\n",
        "  def set_travel_mode(self,min):\n",
        "    print(str(min)+'분 동안 여행 모드 ON')\n",
        "    self.make()   #추억용 여행 영상 제작\n",
        "    self.send()   #메일 발송\n",
        "\n",
        "b2=AdvancedTravelBlackBox('초록이',120000,64)\n",
        "b2.set_travel_mode(15)"
      ],
      "metadata": {
        "colab": {
          "base_uri": "https://localhost:8080/"
        },
        "id": "zKIYH64todQc",
        "outputId": "ab1480b4-8631-4a7d-cef6-e4ce6d4626fd"
      },
      "execution_count": null,
      "outputs": [
        {
          "output_type": "stream",
          "name": "stdout",
          "text": [
            "15분 동안 여행 모드 ON\n",
            "추억용 여행 영상 제작\n",
            "메일 발송\n"
          ]
        }
      ]
    },
    {
      "cell_type": "markdown",
      "source": [
        "pass  \n",
        ": 나중에 할게, 일단 냅둬  \n",
        "if문의 조건으로 사용될 수는 없음"
      ],
      "metadata": {
        "id": "5UEi4AWqKpPm"
      }
    },
    {
      "cell_type": "markdown",
      "source": [
        "예외처리  \n",
        ": 오류(error)를 만났을 때도 프로그램이 정상적으로 작동할 수 있게 함"
      ],
      "metadata": {
        "id": "lS7iZDD8V3QW"
      }
    },
    {
      "cell_type": "code",
      "source": [
        "try:\n",
        "  수행 문장   #에러가 발생할 확률이 있는 문장\n",
        "except:\n",
        "  에러 발생 시 수행 문장\n",
        "else:\n",
        "  정상 동작 시 수행 문장\n",
        "finally:\n",
        "  마지막으로 수행할 문장    #에러 여부 상관 없이 항상 수행되는 문장"
      ],
      "metadata": {
        "id": "WaH-MzKLS9C6"
      },
      "execution_count": null,
      "outputs": []
    },
    {
      "cell_type": "code",
      "source": [
        "try:\n",
        "  result = num1/num2\n",
        "  print(f'연산 결과는 {result}입니다')\n",
        "except:\n",
        "  print('에러가 발생했어요')\n",
        "else:\n",
        "  print('정상 동작 했어요')\n",
        "finally:\n",
        "  print('수행 종료')"
      ],
      "metadata": {
        "id": "9KDV0vuKWRcY"
      },
      "execution_count": null,
      "outputs": []
    },
    {
      "cell_type": "code",
      "source": [
        "try:\n",
        "  수행 문장\n",
        "except:\n",
        "  에러 처리\n",
        "\n",
        "try:\n",
        "  수행 문장\n",
        "finally:\n",
        "  마지막 수행\n",
        "\n",
        "try:\n",
        "  수행 문장\n",
        "except:\n",
        "  에러 처리\n",
        "else:\n",
        "  정상 동작\n",
        "\n",
        "try:\n",
        "  수행 문장\n",
        "except:\n",
        "  에러 처리\n",
        "else:\n",
        "  정상 동작\n",
        "finally:\n",
        "  마지막 수행"
      ],
      "metadata": {
        "id": "aE4aaUtAWrDa"
      },
      "execution_count": null,
      "outputs": []
    },
    {
      "cell_type": "markdown",
      "source": [
        "try:는 항상 except: 또는 finally:와 함께 쌍을 이루어야 함"
      ],
      "metadata": {
        "id": "wsXOCS6iXEdM"
      }
    },
    {
      "cell_type": "markdown",
      "source": [
        "에러  \n",
        "구글에서 python exceptions"
      ],
      "metadata": {
        "id": "oFQL_XdXPsAt"
      }
    },
    {
      "cell_type": "code",
      "source": [
        "try:\n",
        "  result = num1/num2\n",
        "  print(f'연산 결과는 {result}입니다')\n",
        "except ZeroDivisionError:\n",
        "  print('0으로 나눌 수 없어요')\n",
        "except TypeError:\n",
        "  print('값의 형태가 이상해요')\n",
        "except Exception as err:\n",
        "  print('에러가 발생했어요:', err)"
      ],
      "metadata": {
        "id": "ML2bkcHjPzwG"
      },
      "execution_count": null,
      "outputs": []
    }
  ]
}